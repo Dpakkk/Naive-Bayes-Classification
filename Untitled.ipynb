{
 "cells": [
  {
   "cell_type": "markdown",
   "metadata": {},
   "source": [
    "### This is a Naive Bayer's Clasification for the titanic dataset.\n",
    "#### The main objective of this analysis is to classify the people who survived or not based on the fair they have paid"
   ]
  },
  {
   "cell_type": "code",
   "execution_count": 2,
   "metadata": {},
   "outputs": [],
   "source": [
    "import numpy as np\n",
    "import pandas as pd\n",
    "import seaborn as sns\n",
    "import matplotlib.pyplot as plt\n",
    "\n",
    "%matplotlib inline"
   ]
  },
  {
   "cell_type": "code",
   "execution_count": 3,
   "metadata": {},
   "outputs": [],
   "source": [
    "df = pd.read_csv('titanic.csv')"
   ]
  },
  {
   "cell_type": "code",
   "execution_count": 6,
   "metadata": {},
   "outputs": [
    {
     "data": {
      "text/plain": [
       "(714, 4)"
      ]
     },
     "execution_count": 6,
     "metadata": {},
     "output_type": "execute_result"
    }
   ],
   "source": [
    "df.shape"
   ]
  },
  {
   "cell_type": "code",
   "execution_count": 7,
   "metadata": {},
   "outputs": [],
   "source": [
    "# So we have 714 attributed in our dataset"
   ]
  },
  {
   "cell_type": "code",
   "execution_count": 8,
   "metadata": {},
   "outputs": [
    {
     "data": {
      "text/html": [
       "<div>\n",
       "<style scoped>\n",
       "    .dataframe tbody tr th:only-of-type {\n",
       "        vertical-align: middle;\n",
       "    }\n",
       "\n",
       "    .dataframe tbody tr th {\n",
       "        vertical-align: top;\n",
       "    }\n",
       "\n",
       "    .dataframe thead th {\n",
       "        text-align: right;\n",
       "    }\n",
       "</style>\n",
       "<table border=\"1\" class=\"dataframe\">\n",
       "  <thead>\n",
       "    <tr style=\"text-align: right;\">\n",
       "      <th></th>\n",
       "      <th>PassengerId</th>\n",
       "      <th>Age</th>\n",
       "      <th>Fare</th>\n",
       "      <th>Survived</th>\n",
       "    </tr>\n",
       "  </thead>\n",
       "  <tbody>\n",
       "    <tr>\n",
       "      <th>0</th>\n",
       "      <td>1</td>\n",
       "      <td>22.0</td>\n",
       "      <td>7.2500</td>\n",
       "      <td>0</td>\n",
       "    </tr>\n",
       "    <tr>\n",
       "      <th>1</th>\n",
       "      <td>2</td>\n",
       "      <td>38.0</td>\n",
       "      <td>71.2833</td>\n",
       "      <td>1</td>\n",
       "    </tr>\n",
       "    <tr>\n",
       "      <th>2</th>\n",
       "      <td>3</td>\n",
       "      <td>26.0</td>\n",
       "      <td>7.9250</td>\n",
       "      <td>1</td>\n",
       "    </tr>\n",
       "    <tr>\n",
       "      <th>3</th>\n",
       "      <td>4</td>\n",
       "      <td>35.0</td>\n",
       "      <td>53.1000</td>\n",
       "      <td>1</td>\n",
       "    </tr>\n",
       "    <tr>\n",
       "      <th>4</th>\n",
       "      <td>5</td>\n",
       "      <td>35.0</td>\n",
       "      <td>8.0500</td>\n",
       "      <td>0</td>\n",
       "    </tr>\n",
       "    <tr>\n",
       "      <th>5</th>\n",
       "      <td>7</td>\n",
       "      <td>54.0</td>\n",
       "      <td>51.8625</td>\n",
       "      <td>0</td>\n",
       "    </tr>\n",
       "    <tr>\n",
       "      <th>6</th>\n",
       "      <td>8</td>\n",
       "      <td>2.0</td>\n",
       "      <td>21.0750</td>\n",
       "      <td>0</td>\n",
       "    </tr>\n",
       "    <tr>\n",
       "      <th>7</th>\n",
       "      <td>9</td>\n",
       "      <td>27.0</td>\n",
       "      <td>11.1333</td>\n",
       "      <td>1</td>\n",
       "    </tr>\n",
       "    <tr>\n",
       "      <th>8</th>\n",
       "      <td>10</td>\n",
       "      <td>14.0</td>\n",
       "      <td>30.0708</td>\n",
       "      <td>1</td>\n",
       "    </tr>\n",
       "    <tr>\n",
       "      <th>9</th>\n",
       "      <td>11</td>\n",
       "      <td>4.0</td>\n",
       "      <td>16.7000</td>\n",
       "      <td>1</td>\n",
       "    </tr>\n",
       "  </tbody>\n",
       "</table>\n",
       "</div>"
      ],
      "text/plain": [
       "   PassengerId   Age     Fare  Survived\n",
       "0            1  22.0   7.2500         0\n",
       "1            2  38.0  71.2833         1\n",
       "2            3  26.0   7.9250         1\n",
       "3            4  35.0  53.1000         1\n",
       "4            5  35.0   8.0500         0\n",
       "5            7  54.0  51.8625         0\n",
       "6            8   2.0  21.0750         0\n",
       "7            9  27.0  11.1333         1\n",
       "8           10  14.0  30.0708         1\n",
       "9           11   4.0  16.7000         1"
      ]
     },
     "execution_count": 8,
     "metadata": {},
     "output_type": "execute_result"
    }
   ],
   "source": [
    "df.head(10)"
   ]
  },
  {
   "cell_type": "code",
   "execution_count": 10,
   "metadata": {},
   "outputs": [
    {
     "data": {
      "text/html": [
       "<div>\n",
       "<style scoped>\n",
       "    .dataframe tbody tr th:only-of-type {\n",
       "        vertical-align: middle;\n",
       "    }\n",
       "\n",
       "    .dataframe tbody tr th {\n",
       "        vertical-align: top;\n",
       "    }\n",
       "\n",
       "    .dataframe thead th {\n",
       "        text-align: right;\n",
       "    }\n",
       "</style>\n",
       "<table border=\"1\" class=\"dataframe\">\n",
       "  <thead>\n",
       "    <tr style=\"text-align: right;\">\n",
       "      <th></th>\n",
       "      <th>PassengerId</th>\n",
       "      <th>Age</th>\n",
       "      <th>Fare</th>\n",
       "      <th>Survived</th>\n",
       "    </tr>\n",
       "  </thead>\n",
       "  <tbody>\n",
       "    <tr>\n",
       "      <th>count</th>\n",
       "      <td>714.000000</td>\n",
       "      <td>714.000000</td>\n",
       "      <td>714.000000</td>\n",
       "      <td>714.000000</td>\n",
       "    </tr>\n",
       "    <tr>\n",
       "      <th>mean</th>\n",
       "      <td>448.582633</td>\n",
       "      <td>29.699118</td>\n",
       "      <td>34.694514</td>\n",
       "      <td>0.406162</td>\n",
       "    </tr>\n",
       "    <tr>\n",
       "      <th>std</th>\n",
       "      <td>259.119524</td>\n",
       "      <td>14.526497</td>\n",
       "      <td>52.918930</td>\n",
       "      <td>0.491460</td>\n",
       "    </tr>\n",
       "    <tr>\n",
       "      <th>min</th>\n",
       "      <td>1.000000</td>\n",
       "      <td>0.420000</td>\n",
       "      <td>0.000000</td>\n",
       "      <td>0.000000</td>\n",
       "    </tr>\n",
       "    <tr>\n",
       "      <th>25%</th>\n",
       "      <td>222.250000</td>\n",
       "      <td>20.125000</td>\n",
       "      <td>8.050000</td>\n",
       "      <td>0.000000</td>\n",
       "    </tr>\n",
       "    <tr>\n",
       "      <th>50%</th>\n",
       "      <td>445.000000</td>\n",
       "      <td>28.000000</td>\n",
       "      <td>15.741700</td>\n",
       "      <td>0.000000</td>\n",
       "    </tr>\n",
       "    <tr>\n",
       "      <th>75%</th>\n",
       "      <td>677.750000</td>\n",
       "      <td>38.000000</td>\n",
       "      <td>33.375000</td>\n",
       "      <td>1.000000</td>\n",
       "    </tr>\n",
       "    <tr>\n",
       "      <th>max</th>\n",
       "      <td>891.000000</td>\n",
       "      <td>80.000000</td>\n",
       "      <td>512.329200</td>\n",
       "      <td>1.000000</td>\n",
       "    </tr>\n",
       "  </tbody>\n",
       "</table>\n",
       "</div>"
      ],
      "text/plain": [
       "       PassengerId         Age        Fare    Survived\n",
       "count   714.000000  714.000000  714.000000  714.000000\n",
       "mean    448.582633   29.699118   34.694514    0.406162\n",
       "std     259.119524   14.526497   52.918930    0.491460\n",
       "min       1.000000    0.420000    0.000000    0.000000\n",
       "25%     222.250000   20.125000    8.050000    0.000000\n",
       "50%     445.000000   28.000000   15.741700    0.000000\n",
       "75%     677.750000   38.000000   33.375000    1.000000\n",
       "max     891.000000   80.000000  512.329200    1.000000"
      ]
     },
     "execution_count": 10,
     "metadata": {},
     "output_type": "execute_result"
    }
   ],
   "source": [
    "df.describe()"
   ]
  },
  {
   "cell_type": "markdown",
   "metadata": {},
   "source": [
    "- Min age passenger of just 0.48 yr\n",
    "- Max age of a passenger is 80\n",
    "\n",
    "Here we have predicting the survival status based on the variable Fare. So PassengerId is none of our business so we are dropping it out"
   ]
  },
  {
   "cell_type": "code",
   "execution_count": 14,
   "metadata": {},
   "outputs": [],
   "source": [
    "df.drop('PassengerId', axis = 1, inplace = True)"
   ]
  },
  {
   "cell_type": "code",
   "execution_count": 15,
   "metadata": {},
   "outputs": [
    {
     "data": {
      "text/html": [
       "<div>\n",
       "<style scoped>\n",
       "    .dataframe tbody tr th:only-of-type {\n",
       "        vertical-align: middle;\n",
       "    }\n",
       "\n",
       "    .dataframe tbody tr th {\n",
       "        vertical-align: top;\n",
       "    }\n",
       "\n",
       "    .dataframe thead th {\n",
       "        text-align: right;\n",
       "    }\n",
       "</style>\n",
       "<table border=\"1\" class=\"dataframe\">\n",
       "  <thead>\n",
       "    <tr style=\"text-align: right;\">\n",
       "      <th></th>\n",
       "      <th>Age</th>\n",
       "      <th>Fare</th>\n",
       "      <th>Survived</th>\n",
       "    </tr>\n",
       "  </thead>\n",
       "  <tbody>\n",
       "    <tr>\n",
       "      <th>0</th>\n",
       "      <td>22.0</td>\n",
       "      <td>7.2500</td>\n",
       "      <td>0</td>\n",
       "    </tr>\n",
       "    <tr>\n",
       "      <th>1</th>\n",
       "      <td>38.0</td>\n",
       "      <td>71.2833</td>\n",
       "      <td>1</td>\n",
       "    </tr>\n",
       "    <tr>\n",
       "      <th>2</th>\n",
       "      <td>26.0</td>\n",
       "      <td>7.9250</td>\n",
       "      <td>1</td>\n",
       "    </tr>\n",
       "    <tr>\n",
       "      <th>3</th>\n",
       "      <td>35.0</td>\n",
       "      <td>53.1000</td>\n",
       "      <td>1</td>\n",
       "    </tr>\n",
       "    <tr>\n",
       "      <th>4</th>\n",
       "      <td>35.0</td>\n",
       "      <td>8.0500</td>\n",
       "      <td>0</td>\n",
       "    </tr>\n",
       "  </tbody>\n",
       "</table>\n",
       "</div>"
      ],
      "text/plain": [
       "    Age     Fare  Survived\n",
       "0  22.0   7.2500         0\n",
       "1  38.0  71.2833         1\n",
       "2  26.0   7.9250         1\n",
       "3  35.0  53.1000         1\n",
       "4  35.0   8.0500         0"
      ]
     },
     "execution_count": 15,
     "metadata": {},
     "output_type": "execute_result"
    }
   ],
   "source": [
    "df.head()"
   ]
  },
  {
   "cell_type": "code",
   "execution_count": 25,
   "metadata": {},
   "outputs": [
    {
     "data": {
      "image/png": "[encoded data removed]",
      "text/plain": [
       "<Figure size 720x360 with 1 Axes>"
      ]
     },
     "metadata": {
      "needs_background": "light"
     },
     "output_type": "display_data"
    }
   ],
   "source": [
    "plt.figure(figsize = (10,5)) \n",
    "sns.countplot(df['Survived'])\n",
    "plt.show()"
   ]
  },
  {
   "cell_type": "code",
   "execution_count": 38,
   "metadata": {},
   "outputs": [],
   "source": [
    "age = df['Age'].values\n",
    "fare = df['Fare'].values\n",
    "survived = df['Survived'].values"
   ]
  },
  {
   "cell_type": "code",
   "execution_count": 39,
   "metadata": {},
   "outputs": [],
   "source": [
    "color = []\n",
    "for i in df['Survived']:\n",
    "    if i == 0:\n",
    "        color.append('red')\n",
    "    else:\n",
    "        color.append('blue')"
   ]
  },
  {
   "cell_type": "code",
   "execution_count": 43,
   "metadata": {},
   "outputs": [
    {
     "data": {
      "image/png": "[encoded data removed]",
      "text/plain": [
       "<Figure size 432x288 with 1 Axes>"
      ]
     },
     "metadata": {
      "needs_background": "light"
     },
     "output_type": "display_data"
    }
   ],
   "source": [
    "plt.scatter(age,fare,s=60,color = color)\n",
    "plt.xlabel('Age')\n",
    "plt.ylabel('Fare')\n",
    "plt.title('Age vs Fare Comaprison')\n",
    "plt.show()\n"
   ]
  },
  {
   "cell_type": "markdown",
   "metadata": {},
   "source": [
    "### Prepraing the input and output variables\n",
    "#### Age and Fare are our input variables\n",
    "#### Survved is our target variables\n"
   ]
  },
  {
   "cell_type": "code",
   "execution_count": 56,
   "metadata": {},
   "outputs": [],
   "source": [
    "input_ = df.drop(['Survived'],axis = 1).values\n",
    "target = df['Survived'].values"
   ]
  },
  {
   "cell_type": "code",
   "execution_count": 57,
   "metadata": {},
   "outputs": [
    {
     "data": {
      "text/plain": [
       "(714, 2)"
      ]
     },
     "execution_count": 57,
     "metadata": {},
     "output_type": "execute_result"
    }
   ],
   "source": [
    "input_.shape"
   ]
  },
  {
   "cell_type": "code",
   "execution_count": 58,
   "metadata": {},
   "outputs": [
    {
     "data": {
      "text/plain": [
       "(714,)"
      ]
     },
     "execution_count": 58,
     "metadata": {},
     "output_type": "execute_result"
    }
   ],
   "source": [
    "target.shape"
   ]
  },
  {
   "cell_type": "markdown",
   "metadata": {},
   "source": [
    "#### Here input and target variables are already assigned now we are dividing the date into training and test data"
   ]
  },
  {
   "cell_type": "code",
   "execution_count": 69,
   "metadata": {},
   "outputs": [],
   "source": [
    "# importing the sklearn library for training and testing\n",
    "from sklearn.model_selection import train_test_split\n",
    "X_train, X_test, Y_train, Y_test = train_test_split(input_, target, test_size = 0.3, random_state = 5)"
   ]
  },
  {
   "cell_type": "code",
   "execution_count": 70,
   "metadata": {},
   "outputs": [],
   "source": [
    "# importing naive bayers \n",
    "from sklearn.naive_bayes import GaussianNB\n",
    "model = GaussianNB()\n",
    "model.fit(X_train, Y_train)\n",
    "Y_predc = model.predict(X_test)"
   ]
  },
  {
   "cell_type": "code",
   "execution_count": 71,
   "metadata": {},
   "outputs": [
    {
     "name": "stdout",
     "output_type": "stream",
     "text": [
      "Actual value is 0 and Predicted Value is 1\n",
      "Actual value is 0 and Predicted Value is 0\n",
      "Actual value is 0 and Predicted Value is 0\n",
      "Actual value is 0 and Predicted Value is 0\n",
      "Actual value is 1 and Predicted Value is 0\n",
      "Actual value is 1 and Predicted Value is 0\n",
      "Actual value is 0 and Predicted Value is 0\n",
      "Actual value is 0 and Predicted Value is 0\n",
      "Actual value is 0 and Predicted Value is 0\n",
      "Actual value is 0 and Predicted Value is 1\n",
      "Actual value is 0 and Predicted Value is 0\n",
      "Actual value is 1 and Predicted Value is 1\n",
      "Actual value is 0 and Predicted Value is 0\n",
      "Actual value is 0 and Predicted Value is 0\n",
      "Actual value is 0 and Predicted Value is 0\n",
      "Actual value is 0 and Predicted Value is 0\n",
      "Actual value is 0 and Predicted Value is 0\n",
      "Actual value is 0 and Predicted Value is 0\n",
      "Actual value is 0 and Predicted Value is 0\n",
      "Actual value is 1 and Predicted Value is 0\n",
      "Actual value is 1 and Predicted Value is 0\n",
      "Actual value is 1 and Predicted Value is 1\n",
      "Actual value is 1 and Predicted Value is 0\n",
      "Actual value is 1 and Predicted Value is 0\n",
      "Actual value is 0 and Predicted Value is 0\n",
      "Actual value is 0 and Predicted Value is 0\n",
      "Actual value is 0 and Predicted Value is 0\n",
      "Actual value is 1 and Predicted Value is 0\n",
      "Actual value is 0 and Predicted Value is 0\n",
      "Actual value is 0 and Predicted Value is 0\n",
      "Actual value is 0 and Predicted Value is 0\n",
      "Actual value is 0 and Predicted Value is 0\n",
      "Actual value is 1 and Predicted Value is 0\n",
      "Actual value is 0 and Predicted Value is 0\n",
      "Actual value is 0 and Predicted Value is 0\n",
      "Actual value is 0 and Predicted Value is 0\n",
      "Actual value is 0 and Predicted Value is 0\n",
      "Actual value is 1 and Predicted Value is 1\n",
      "Actual value is 1 and Predicted Value is 1\n",
      "Actual value is 0 and Predicted Value is 0\n",
      "Actual value is 1 and Predicted Value is 0\n",
      "Actual value is 0 and Predicted Value is 0\n",
      "Actual value is 1 and Predicted Value is 0\n",
      "Actual value is 0 and Predicted Value is 0\n",
      "Actual value is 1 and Predicted Value is 0\n",
      "Actual value is 1 and Predicted Value is 0\n",
      "Actual value is 1 and Predicted Value is 0\n",
      "Actual value is 0 and Predicted Value is 1\n",
      "Actual value is 0 and Predicted Value is 0\n",
      "Actual value is 1 and Predicted Value is 1\n",
      "Actual value is 0 and Predicted Value is 0\n",
      "Actual value is 0 and Predicted Value is 0\n",
      "Actual value is 0 and Predicted Value is 0\n",
      "Actual value is 0 and Predicted Value is 0\n",
      "Actual value is 0 and Predicted Value is 1\n",
      "Actual value is 0 and Predicted Value is 0\n",
      "Actual value is 1 and Predicted Value is 0\n",
      "Actual value is 0 and Predicted Value is 0\n",
      "Actual value is 1 and Predicted Value is 0\n",
      "Actual value is 1 and Predicted Value is 0\n",
      "Actual value is 1 and Predicted Value is 0\n",
      "Actual value is 1 and Predicted Value is 0\n",
      "Actual value is 1 and Predicted Value is 0\n",
      "Actual value is 1 and Predicted Value is 0\n",
      "Actual value is 0 and Predicted Value is 0\n",
      "Actual value is 0 and Predicted Value is 0\n",
      "Actual value is 0 and Predicted Value is 0\n",
      "Actual value is 1 and Predicted Value is 0\n",
      "Actual value is 0 and Predicted Value is 1\n",
      "Actual value is 1 and Predicted Value is 0\n",
      "Actual value is 0 and Predicted Value is 0\n",
      "Actual value is 0 and Predicted Value is 0\n",
      "Actual value is 0 and Predicted Value is 0\n",
      "Actual value is 0 and Predicted Value is 0\n",
      "Actual value is 1 and Predicted Value is 0\n",
      "Actual value is 0 and Predicted Value is 0\n",
      "Actual value is 1 and Predicted Value is 0\n",
      "Actual value is 1 and Predicted Value is 1\n",
      "Actual value is 0 and Predicted Value is 0\n",
      "Actual value is 0 and Predicted Value is 0\n",
      "Actual value is 1 and Predicted Value is 0\n",
      "Actual value is 0 and Predicted Value is 0\n",
      "Actual value is 1 and Predicted Value is 0\n",
      "Actual value is 0 and Predicted Value is 0\n",
      "Actual value is 0 and Predicted Value is 0\n",
      "Actual value is 0 and Predicted Value is 0\n",
      "Actual value is 1 and Predicted Value is 0\n",
      "Actual value is 0 and Predicted Value is 0\n",
      "Actual value is 0 and Predicted Value is 0\n",
      "Actual value is 0 and Predicted Value is 0\n",
      "Actual value is 0 and Predicted Value is 0\n",
      "Actual value is 1 and Predicted Value is 0\n",
      "Actual value is 0 and Predicted Value is 0\n",
      "Actual value is 1 and Predicted Value is 1\n",
      "Actual value is 0 and Predicted Value is 0\n",
      "Actual value is 0 and Predicted Value is 0\n",
      "Actual value is 0 and Predicted Value is 0\n",
      "Actual value is 0 and Predicted Value is 0\n",
      "Actual value is 1 and Predicted Value is 1\n",
      "Actual value is 1 and Predicted Value is 0\n",
      "Actual value is 1 and Predicted Value is 0\n",
      "Actual value is 1 and Predicted Value is 0\n",
      "Actual value is 0 and Predicted Value is 0\n",
      "Actual value is 1 and Predicted Value is 0\n",
      "Actual value is 1 and Predicted Value is 0\n",
      "Actual value is 1 and Predicted Value is 0\n",
      "Actual value is 1 and Predicted Value is 0\n",
      "Actual value is 0 and Predicted Value is 0\n",
      "Actual value is 1 and Predicted Value is 0\n",
      "Actual value is 0 and Predicted Value is 0\n",
      "Actual value is 1 and Predicted Value is 0\n",
      "Actual value is 1 and Predicted Value is 1\n",
      "Actual value is 1 and Predicted Value is 1\n",
      "Actual value is 0 and Predicted Value is 0\n",
      "Actual value is 1 and Predicted Value is 0\n",
      "Actual value is 0 and Predicted Value is 0\n",
      "Actual value is 0 and Predicted Value is 0\n",
      "Actual value is 1 and Predicted Value is 0\n",
      "Actual value is 1 and Predicted Value is 0\n",
      "Actual value is 0 and Predicted Value is 0\n",
      "Actual value is 0 and Predicted Value is 0\n",
      "Actual value is 0 and Predicted Value is 0\n",
      "Actual value is 0 and Predicted Value is 0\n",
      "Actual value is 1 and Predicted Value is 0\n",
      "Actual value is 0 and Predicted Value is 0\n",
      "Actual value is 1 and Predicted Value is 0\n",
      "Actual value is 0 and Predicted Value is 0\n",
      "Actual value is 0 and Predicted Value is 0\n",
      "Actual value is 0 and Predicted Value is 0\n",
      "Actual value is 0 and Predicted Value is 0\n",
      "Actual value is 0 and Predicted Value is 0\n",
      "Actual value is 1 and Predicted Value is 0\n",
      "Actual value is 0 and Predicted Value is 0\n",
      "Actual value is 0 and Predicted Value is 0\n",
      "Actual value is 0 and Predicted Value is 0\n",
      "Actual value is 0 and Predicted Value is 0\n",
      "Actual value is 1 and Predicted Value is 1\n",
      "Actual value is 0 and Predicted Value is 0\n",
      "Actual value is 0 and Predicted Value is 0\n",
      "Actual value is 1 and Predicted Value is 0\n",
      "Actual value is 0 and Predicted Value is 0\n",
      "Actual value is 0 and Predicted Value is 0\n",
      "Actual value is 0 and Predicted Value is 0\n",
      "Actual value is 0 and Predicted Value is 0\n",
      "Actual value is 1 and Predicted Value is 1\n",
      "Actual value is 1 and Predicted Value is 0\n",
      "Actual value is 0 and Predicted Value is 0\n",
      "Actual value is 0 and Predicted Value is 0\n",
      "Actual value is 1 and Predicted Value is 0\n",
      "Actual value is 0 and Predicted Value is 0\n",
      "Actual value is 1 and Predicted Value is 0\n",
      "Actual value is 0 and Predicted Value is 0\n",
      "Actual value is 0 and Predicted Value is 0\n",
      "Actual value is 1 and Predicted Value is 0\n",
      "Actual value is 0 and Predicted Value is 0\n",
      "Actual value is 1 and Predicted Value is 0\n",
      "Actual value is 0 and Predicted Value is 0\n",
      "Actual value is 1 and Predicted Value is 0\n",
      "Actual value is 1 and Predicted Value is 0\n",
      "Actual value is 0 and Predicted Value is 0\n",
      "Actual value is 0 and Predicted Value is 0\n",
      "Actual value is 0 and Predicted Value is 0\n",
      "Actual value is 0 and Predicted Value is 1\n",
      "Actual value is 0 and Predicted Value is 0\n",
      "Actual value is 1 and Predicted Value is 0\n",
      "Actual value is 1 and Predicted Value is 0\n",
      "Actual value is 1 and Predicted Value is 0\n",
      "Actual value is 0 and Predicted Value is 0\n",
      "Actual value is 0 and Predicted Value is 0\n",
      "Actual value is 1 and Predicted Value is 0\n",
      "Actual value is 0 and Predicted Value is 0\n",
      "Actual value is 1 and Predicted Value is 1\n",
      "Actual value is 1 and Predicted Value is 0\n",
      "Actual value is 0 and Predicted Value is 0\n",
      "Actual value is 0 and Predicted Value is 0\n",
      "Actual value is 0 and Predicted Value is 0\n",
      "Actual value is 1 and Predicted Value is 1\n",
      "Actual value is 1 and Predicted Value is 0\n",
      "Actual value is 0 and Predicted Value is 0\n",
      "Actual value is 0 and Predicted Value is 0\n",
      "Actual value is 1 and Predicted Value is 0\n",
      "Actual value is 0 and Predicted Value is 0\n",
      "Actual value is 0 and Predicted Value is 0\n",
      "Actual value is 1 and Predicted Value is 0\n",
      "Actual value is 0 and Predicted Value is 0\n",
      "Actual value is 0 and Predicted Value is 0\n",
      "Actual value is 0 and Predicted Value is 0\n",
      "Actual value is 1 and Predicted Value is 0\n",
      "Actual value is 1 and Predicted Value is 1\n",
      "Actual value is 1 and Predicted Value is 1\n",
      "Actual value is 0 and Predicted Value is 0\n",
      "Actual value is 0 and Predicted Value is 0\n",
      "Actual value is 1 and Predicted Value is 0\n",
      "Actual value is 0 and Predicted Value is 0\n",
      "Actual value is 0 and Predicted Value is 0\n",
      "Actual value is 1 and Predicted Value is 0\n",
      "Actual value is 1 and Predicted Value is 1\n",
      "Actual value is 0 and Predicted Value is 0\n",
      "Actual value is 1 and Predicted Value is 0\n",
      "Actual value is 0 and Predicted Value is 0\n",
      "Actual value is 0 and Predicted Value is 0\n",
      "Actual value is 1 and Predicted Value is 0\n",
      "Actual value is 0 and Predicted Value is 0\n",
      "Actual value is 1 and Predicted Value is 0\n",
      "Actual value is 1 and Predicted Value is 0\n",
      "Actual value is 0 and Predicted Value is 0\n",
      "Actual value is 0 and Predicted Value is 0\n",
      "Actual value is 0 and Predicted Value is 0\n",
      "Actual value is 0 and Predicted Value is 0\n",
      "Actual value is 0 and Predicted Value is 0\n",
      "Actual value is 0 and Predicted Value is 0\n",
      "Actual value is 0 and Predicted Value is 0\n",
      "Actual value is 0 and Predicted Value is 0\n",
      "Actual value is 1 and Predicted Value is 0\n",
      "Actual value is 1 and Predicted Value is 1\n"
     ]
    }
   ],
   "source": [
    "for i in zip(Y_test,Y_predc):\n",
    "    print(f\"Actual value is {i[0]} and Predicted Value is {i[1]}\")"
   ]
  },
  {
   "cell_type": "code",
   "execution_count": 66,
   "metadata": {},
   "outputs": [
    {
     "name": "stdout",
     "output_type": "stream",
     "text": [
      "Accuracy is 0.625\n"
     ]
    }
   ],
   "source": [
    "from sklearn import metrics\n",
    "print(f'Accuracy is {metrics.accuracy_score(Y_test, Y_predc)}')"
   ]
  },
  {
   "cell_type": "markdown",
   "metadata": {},
   "source": [
    "### Hence Accuracy of our system is 62%"
   ]
  },
  {
   "cell_type": "code",
   "execution_count": null,
   "metadata": {},
   "outputs": [],
   "source": []
  }
 ],
 "metadata": {
  "kernelspec": {
   "display_name": "Python 3",
   "language": "python",
   "name": "python3"
  },
  "language_info": {
   "codemirror_mode": {
    "name": "ipython",
    "version": 3
   },
   "file_extension": ".py",
   "mimetype": "text/x-python",
   "name": "python",
   "nbconvert_exporter": "python",
   "pygments_lexer": "ipython3",
   "version": "3.7.6"
  }
 },
 "nbformat": 4,
 "nbformat_minor": 4
}
